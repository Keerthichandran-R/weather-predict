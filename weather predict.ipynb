{
 "cells": [
  {
   "cell_type": "code",
   "execution_count": 1,
   "id": "3769fa1d-d064-4f8c-9d23-9a245f5158de",
   "metadata": {},
   "outputs": [
    {
     "name": "stdout",
     "output_type": "stream",
     "text": [
      "Weather data saved to weather_data.csv ✅\n"
     ]
    }
   ],
   "source": [
    "import csv\n",
    "import random\n",
    "from datetime import datetime\n",
    "\n",
    "# Mock city list\n",
    "cities = [\"Chennai\", \"Delhi\", \"Mumbai\", \"Bangalore\", \"Hyderabad\", \"Kolkata\"]\n",
    "\n",
    "# Generate random weather data\n",
    "def generate_weather_data(num_records=10):\n",
    "    data = []\n",
    "    for _ in range(num_records):\n",
    "        city = random.choice(cities)\n",
    "        temp = round(random.uniform(20, 40), 2)  # Celsius\n",
    "        humidity = random.randint(30, 90)        # %\n",
    "        condition = random.choice([\"Sunny\", \"Cloudy\", \"Rainy\", \"Stormy\"])\n",
    "        timestamp = datetime.now().strftime(\"%Y-%m-%d %H:%M:%S\")\n",
    "\n",
    "        data.append([city, temp, humidity, condition, timestamp])\n",
    "    return data\n",
    "\n",
    "# Save to CSV\n",
    "def save_to_csv(filename, data):\n",
    "    with open(filename, mode='w', newline='', encoding='utf-8') as file:\n",
    "        writer = csv.writer(file)\n",
    "        writer.writerow([\"City\", \"Temperature (°C)\", \"Humidity (%)\", \"Condition\", \"Timestamp\"])\n",
    "        writer.writerows(data)\n",
    "\n",
    "if __name__ == \"__main__\":\n",
    "    weather_data = generate_weather_data(15)\n",
    "    save_to_csv(\"weather_data.csv\", weather_data)\n",
    "    print(\"Weather data saved to weather_data.csv ✅\")\n"
   ]
  },
  {
   "cell_type": "code",
   "execution_count": null,
   "id": "393b0ad0-bc1c-419b-9ee9-62e3a9668cc8",
   "metadata": {},
   "outputs": [],
   "source": []
  }
 ],
 "metadata": {
  "kernelspec": {
   "display_name": "Python 3 (ipykernel)",
   "language": "python",
   "name": "python3"
  },
  "language_info": {
   "codemirror_mode": {
    "name": "ipython",
    "version": 3
   },
   "file_extension": ".py",
   "mimetype": "text/x-python",
   "name": "python",
   "nbconvert_exporter": "python",
   "pygments_lexer": "ipython3",
   "version": "3.11.7"
  }
 },
 "nbformat": 4,
 "nbformat_minor": 5
}
